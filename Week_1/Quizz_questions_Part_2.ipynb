{
 "cells": [
  {
   "cell_type": "markdown",
   "id": "55f6b356",
   "metadata": {},
   "source": [
    "## Part 2: Sequence Objects"
   ]
  },
  {
   "cell_type": "markdown",
   "id": "c934cb7f",
   "metadata": {},
   "source": [
    "### CC 1.2.1: Sequences\n",
    "\n",
    "In these Comprehension Checks, we will review a range of Python topics, and do not expect you to know the answer without any aids.  As you answer these questions, feel free to use Python and the internet interactively to get the right answer!\n",
    "\n",
    "#### Sequences: Question 1\n",
    "\n",
    "Consider the following tuple and index ```(1,2,3)[-0]```. What will this return?\n",
    "- 0\n",
    "- **1**\n",
    "- 3\n",
    "- This code contains an error.\n",
    "\n",
    "#### Sequences: Question 2\n",
    "\n",
    "Consider the following tuple and index ```(1,2,3)[-0:0]```. What will this return?\n",
    "- (0)\n",
    "- (1)\n",
    "- **()**\n",
    "- This code contains an error."
   ]
  },
  {
   "cell_type": "markdown",
   "id": "af823451",
   "metadata": {},
   "source": [
    "### CC 1.2.2: Lists\n",
    "\n",
    "In these Comprehension Checks, we will review a range of Python topics, and do not expect you to know the answer without any aids.  As you answer these questions, feel free to use Python and the internet interactively to get the right answer!\n",
    "\n",
    "#### Lists: Question 1\n",
    "\n",
    "Consider again ```x=[1,2,3]```. Which index corresponds to 2 in x?\n",
    "\n",
    "Enter your numeric answer here.\n",
    "\n",
    "**1**\n",
    "\n",
    "#### Lists: Question 2\n",
    "\n",
    "Consider a list ```x=[1,2,3]```. Enter the code below for how you would use the append method to add the number 4 to the end of list x.\n",
    "\n",
    "Enter your code here.\n",
    "\n",
    "**```x.append(4)```**\n",
    " \n",
    "\n",
    "#### Lists: Question 3\n",
    "\n",
    "Why do list methods such as reverse and sort return nothing?\n",
    "\n",
    "- This is false: they return reversed or sorted lists.\n",
    "- **They are in-place methods, meaning they alter the content of the original list**"
   ]
  },
  {
   "cell_type": "markdown",
   "id": "17329319",
   "metadata": {},
   "source": [
    "### CC 1.2.4: Ranges\n",
    "\n",
    "In these Comprehension Checks, we will review a range of Python topics, and do not expect you to know the answer without any aids.  As you answer these questions, feel free to use Python and the internet interactively to get the right answer!\n",
    "\n",
    "#### Ranges: Question 1\n",
    "\n",
    "Why might you prefer to use a range over a list?\n",
    "\n",
    "- **Ranges do not instantiate their elements, making them more efficient in loops.**\n",
    "- Ranges are a type of list, and support all list methods as well as some special methods for range objects.\n",
    "- Creating a range is faster than creating a list, but lists require less memory."
   ]
  }
 ],
 "metadata": {
  "language_info": {
   "name": "python"
  }
 },
 "nbformat": 4,
 "nbformat_minor": 5
}
