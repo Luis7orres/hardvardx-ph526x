{
 "cells": [
  {
   "cell_type": "markdown",
   "id": "55f6b356",
   "metadata": {},
   "source": [
    "## Part 2: Sequence Objects"
   ]
  },
  {
   "cell_type": "markdown",
   "id": "c934cb7f",
   "metadata": {},
   "source": [
    "### CC 1.2.1: Sequences\n",
    "\n",
    "In these Comprehension Checks, we will review a range of Python topics, and do not expect you to know the answer without any aids.  As you answer these questions, feel free to use Python and the internet interactively to get the right answer!\n",
    "\n",
    "#### Sequences: Question 1\n",
    "\n",
    "Consider the following tuple and index ```(1,2,3)[-0]```. What will this return?\n",
    "- 0\n",
    "- **1**\n",
    "- 3\n",
    "- This code contains an error.\n",
    "\n",
    "#### Sequences: Question 2\n",
    "\n",
    "Consider the following tuple and index ```(1,2,3)[-0:0]```. What will this return?\n",
    "- (0)\n",
    "- (1)\n",
    "- **()**\n",
    "- This code contains an error."
   ]
  }
 ],
 "metadata": {
  "language_info": {
   "name": "python"
  }
 },
 "nbformat": 4,
 "nbformat_minor": 5
}
